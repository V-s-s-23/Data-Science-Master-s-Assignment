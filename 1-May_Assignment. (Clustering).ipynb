{
 "cells": [
  {
   "cell_type": "markdown",
   "id": "219df339",
   "metadata": {},
   "source": [
    "# Q1. What is a contingency matrix, and how is it used to evaluate the performance of a classification model?\n",
    "## Answer:- A contingency matrix, also known as a confusion matrix, is a table that shows the number of correct and incorrect predictions made by a classification model. It is used to evaluate the model's performance by comparing the predicted and actual class labels for each observation."
   ]
  },
  {
   "cell_type": "markdown",
   "id": "3296f7fe",
   "metadata": {},
   "source": [
    "# Q2. How is a pair confusion matrix different from a regular confusion matrix, and why might it be useful in certain situations?\n",
    "## Answer:- A pair confusion matrix compares the performance of two models on the same dataset. It is useful when comparing the effectiveness of two models in different contexts, such as with different preprocessing methods. It can help identify which model performs better in which situations."
   ]
  },
  {
   "cell_type": "markdown",
   "id": "7b180ec5",
   "metadata": {},
   "source": [
    "# Q3. What is an extrinsic measure in the context of natural language processing, and how is it typically used to evaluate the performance of language models?\n",
    "## Answer:- Extrinsic measures in NLP refer to evaluations that measure the performance of language models on real-world tasks, such as sentiment analysis or machine translation. These measures provide a more practical evaluation of a model's effectiveness than intrinsic measures, such as perplexity or accuracy."
   ]
  },
  {
   "cell_type": "markdown",
   "id": "e466c779",
   "metadata": {},
   "source": [
    "# Q4. What is an intrinsic measure in the context of machine learning, and how does it differ from an extrinsicmeasure?\n",
    "## Answer:- Intrinsic measures evaluate the performance of a model on a specific task without external context. Extrinsic measures evaluate the performance of a model in the context of a larger system or application."
   ]
  },
  {
   "cell_type": "markdown",
   "id": "764f1013",
   "metadata": {},
   "source": [
    "# Q5. What is the purpose of a confusion matrix in machine learning, and how can it be used to identify strengths and weaknesses of a model?\n",
    "## Answer:- A confusion matrix is a table that displays the performance of a classification model by comparing predicted and actual outcomes. It helps to identify strengths and weaknesses of a model by showing the number of correct and incorrect predictions, and enables calculation of metrics like precision, recall, and F1 score."
   ]
  },
  {
   "cell_type": "markdown",
   "id": "cfc18e12",
   "metadata": {},
   "source": [
    "# Q6. What are some common intrinsic measures used to evaluate the performance of unsupervised learning algorithms, and how can they be interpreted?\n",
    "# Answer:- Common intrinsic measures used to evaluate unsupervised learning algorithms include clustering accuracy, silhouette score, and cohesion and separation measures. These measures provide insight into the quality of the clusters formed by the algorithm, and how well they capture the underlying structure of the data."
   ]
  },
  {
   "cell_type": "markdown",
   "id": "6d532e6e",
   "metadata": {},
   "source": [
    "# Q7. What are some limitations of using accuracy as a sole evaluation metric for classification tasks, and how can these limitations be addressed?\n",
    "## Answer:- Accuracy as a sole evaluation metric for classification tasks can be misleading in imbalanced datasets, where the majority class dominates. In such cases, a model could achieve high accuracy by simply predicting the majority class. Other metrics such as precision, recall, and F1-score can provide a more nuanced evaluation of the model's performance."
   ]
  },
  {
   "cell_type": "code",
   "execution_count": null,
   "id": "a82f2293",
   "metadata": {},
   "outputs": [],
   "source": []
  }
 ],
 "metadata": {
  "kernelspec": {
   "display_name": "Python 3 (ipykernel)",
   "language": "python",
   "name": "python3"
  },
  "language_info": {
   "codemirror_mode": {
    "name": "ipython",
    "version": 3
   },
   "file_extension": ".py",
   "mimetype": "text/x-python",
   "name": "python",
   "nbconvert_exporter": "python",
   "pygments_lexer": "ipython3",
   "version": "3.9.12"
  }
 },
 "nbformat": 4,
 "nbformat_minor": 5
}
