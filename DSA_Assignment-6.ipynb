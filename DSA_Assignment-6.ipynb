{
 "cells": [
  {
   "cell_type": "markdown",
   "id": "f57eec5d",
   "metadata": {},
   "source": [
    " **Question 1**\n",
    "\n",
    "A permutation perm of n + 1 integers of all the integers in the range [0, n] can be represented as a string s of length n where:\n",
    "\n",
    "- s[i] == 'I' if perm[i] < perm[i + 1], and\n",
    "- s[i] == 'D' if perm[i] > perm[i + 1].\n",
    "\n",
    "Given a string s, reconstruct the permutation perm and return it. If there are multiple valid permutations perm, return **any of them**.\n",
    "\n",
    "**Example 1:**\n",
    "\n",
    "**Input:** s = \"IDID\"\n",
    "\n",
    "**Output:**\n",
    "\n",
    "[0,4,1,3,2]"
   ]
  },
  {
   "cell_type": "code",
   "execution_count": 1,
   "id": "4b6f6f84",
   "metadata": {},
   "outputs": [],
   "source": [
    "def reconstruct_permutation(s):\n",
    "    perm = []\n",
    "    n = len(s)\n",
    "    low, high = 0, n\n",
    "\n",
    "    for c in s:\n",
    "        if c == 'I':\n",
    "            perm.append(low)\n",
    "            low += 1\n",
    "        elif c == 'D':\n",
    "            perm.append(high)\n",
    "            high -= 1\n",
    "\n",
    "    perm.append(low)\n",
    "\n",
    "    return perm"
   ]
  },
  {
   "cell_type": "code",
   "execution_count": 2,
   "id": "8dcb5af6",
   "metadata": {},
   "outputs": [
    {
     "data": {
      "text/plain": [
       "[0, 4, 1, 3, 2]"
      ]
     },
     "execution_count": 2,
     "metadata": {},
     "output_type": "execute_result"
    }
   ],
   "source": [
    "r = \"IDID\"\n",
    "reconstruct_permutation(r)"
   ]
  },
  {
   "cell_type": "markdown",
   "id": "cbf1f83e",
   "metadata": {},
   "source": [
    " **Question 2**\n",
    "\n",
    "You are given an m x n integer matrix matrix with the following two properties:\n",
    "\n",
    "- Each row is sorted in non-decreasing order.\n",
    "- The first integer of each row is greater than the last integer of the previous row.\n",
    "\n",
    "Given an integer target, return true *if* target *is in* matrix *or* false *otherwise*.\n",
    "\n",
    "You must write a solution in O(log(m * n)) time complexity.\n",
    "\n",
    "**Example 1:**\n",
    "**Input:** matrix = [[1,3,5,7],[10,11,16,20],[23,30,34,60]], target = 3\n",
    "\n",
    "**Output:** true"
   ]
  },
  {
   "cell_type": "code",
   "execution_count": 3,
   "id": "e18bc75c",
   "metadata": {},
   "outputs": [
    {
     "name": "stdout",
     "output_type": "stream",
     "text": [
      "True\n"
     ]
    }
   ],
   "source": [
    "def searchMatrix(matrix, target):\n",
    "    m = len(matrix)\n",
    "    n = len(matrix[0])\n",
    "    left = 0\n",
    "    right = m * n - 1\n",
    "\n",
    "    while left <= right:\n",
    "        mid = (left + right) // 2\n",
    "        row = mid // n\n",
    "        col = mid % n\n",
    "\n",
    "        if matrix[row][col] == target:\n",
    "            return True\n",
    "        elif matrix[row][col] < target:\n",
    "            left = mid + 1\n",
    "        else:\n",
    "            right = mid - 1\n",
    "\n",
    "    return False\n",
    "\n",
    "# Test the function\n",
    "matrix = [[1,3,5,7],[10,11,16,20],[23,30,34,60]]\n",
    "target = 3\n",
    "print(searchMatrix(matrix, target))  "
   ]
  },
  {
   "cell_type": "markdown",
   "id": "3fcf4380",
   "metadata": {},
   "source": [
    "**Question 3**\n",
    "\n",
    "Given an array of integers arr, return *true if and only if it is a valid mountain array*.\n",
    "\n",
    "Recall that arr is a mountain array if and only if:\n",
    "\n",
    "- arr.length >= 3\n",
    "- There exists some i with 0 < i < arr.length - 1 such that:\n",
    "    - arr[0] < arr[1] < ... < arr[i - 1] < arr[i]\n",
    "    - arr[i] > arr[i + 1] > ... > arr[arr.length - 1]\n",
    "\n",
    "**Example 1:**\n",
    "\n",
    "**Input:** arr = [2,1]\n",
    "\n",
    "**Output:**\n",
    "\n",
    "false"
   ]
  },
  {
   "cell_type": "code",
   "execution_count": 4,
   "id": "87c926d2",
   "metadata": {},
   "outputs": [
    {
     "name": "stdout",
     "output_type": "stream",
     "text": [
      "False\n"
     ]
    }
   ],
   "source": [
    "def validMountainArray(arr):\n",
    "    n = len(arr)\n",
    "    if n < 3:\n",
    "        return False\n",
    "\n",
    "    i = 0\n",
    "\n",
    "    while i < n - 1 and arr[i] < arr[i + 1]:\n",
    "        i += 1\n",
    "\n",
    "    if i == 0 or i == n - 1:\n",
    "        return False\n",
    "\n",
    "    while i < n - 1 and arr[i] > arr[i + 1]:\n",
    "        i += 1\n",
    "\n",
    "    return i == n - 1\n",
    "\n",
    "\n",
    "# Test the example:\n",
    "arr = [2, 1]\n",
    "print(validMountainArray(arr))\n"
   ]
  },
  {
   "cell_type": "markdown",
   "id": "6f04e30a",
   "metadata": {},
   "source": [
    " **Question 4**\n",
    "\n",
    "Given a binary array nums, return *the maximum length of a contiguous subarray with an equal number of* 0 *and* 1.\n",
    "\n",
    "**Example 1:**\n",
    "\n",
    "**Input:** nums = [0,1]\n",
    "\n",
    "**Output:** 2\n",
    "\n",
    "**Explanation:**\n",
    "\n",
    "[0, 1] is the longest contiguous subarray with an equal number of 0 and 1.\n"
   ]
  },
  {
   "cell_type": "code",
   "execution_count": 5,
   "id": "6f09bfaf",
   "metadata": {},
   "outputs": [],
   "source": [
    "def findMaxLength(nums):\n",
    "    maxLen = 0\n",
    "    count = 0\n",
    "    countMap = {0: -1}\n",
    "\n",
    "    for i in range(len(nums)):\n",
    "        if nums[i] == 1:\n",
    "            count += 1\n",
    "        else:\n",
    "            count -= 1\n",
    "\n",
    "        if count in countMap:\n",
    "            length = i - countMap[count]\n",
    "            if length > maxLen:\n",
    "                maxLen = length\n",
    "        else:\n",
    "            countMap[count] = i\n",
    "\n",
    "    return maxLen"
   ]
  },
  {
   "cell_type": "code",
   "execution_count": 8,
   "id": "e7a485c0",
   "metadata": {},
   "outputs": [
    {
     "data": {
      "text/plain": [
       "2"
      ]
     },
     "execution_count": 8,
     "metadata": {},
     "output_type": "execute_result"
    }
   ],
   "source": [
    "num = [0,1]\n",
    "findMaxLength(num)"
   ]
  },
  {
   "cell_type": "markdown",
   "id": "505c82ab",
   "metadata": {},
   "source": [
    " **Question 5**\n",
    "\n",
    "The **product sum** of two equal-length arrays a and b is equal to the sum of a[i] * b[i] for all 0 <= i < a.length (**0-indexed**).\n",
    "\n",
    "- For example, if a = [1,2,3,4] and b = [5,2,3,1], the **product sum** would be 1*5 + 2*2 + 3*3 + 4*1 = 22.\n",
    "\n",
    "Given two arrays nums1 and nums2 of length n, return *the **minimum product sum** if you are allowed to **rearrange** the **order** of the elements in* nums1.\n",
    "\n",
    "**Example 1:**\n",
    "\n",
    "**Input:** nums1 = [5,3,4,2], nums2 = [4,2,2,5]\n",
    "\n",
    "**Output:** 40\n",
    "\n",
    "**Explanation:**\n",
    "\n",
    "We can rearrange nums1 to become [3,5,4,2]. The product sum of [3,5,4,2] and [4,2,2,5] is 3*4 + 5*2 + 4*2 + 2*5 = 40."
   ]
  },
  {
   "cell_type": "code",
   "execution_count": 10,
   "id": "04741304",
   "metadata": {},
   "outputs": [
    {
     "name": "stdout",
     "output_type": "stream",
     "text": [
      "51\n"
     ]
    }
   ],
   "source": [
    "def minProductSum(nums1, nums2):\n",
    "    nums1.sort()  # Sort nums1 in non-decreasing order\n",
    "    nums2.sort()  # Sort nums2 in non-decreasing order\n",
    "\n",
    "    left = 0\n",
    "    right = len(nums1) - 1\n",
    "    minProductSum = 0\n",
    "\n",
    "    while left <= right:\n",
    "        minProductSum += nums1[left] * nums2[left]\n",
    "        left += 1\n",
    "        minProductSum += nums1[right] * nums2[right]\n",
    "        right -= 1\n",
    "\n",
    "    return minProductSum\n",
    "\n",
    "# Example usage\n",
    "nums1 = [5, 3, 4, 2]\n",
    "nums2 = [4, 2, 2, 5]\n",
    "result = minProductSum(nums1, nums2)\n",
    "print(result)  # Output: 40"
   ]
  },
  {
   "cell_type": "markdown",
   "id": "1bc40753",
   "metadata": {},
   "source": [
    "**Question 6**\n",
    "\n",
    "An integer array original is transformed into a **doubled** array changed by appending **twice the value** of every element in original, and then randomly **shuffling** the resulting array.\n",
    "\n",
    "Given an array changed, return original *if* changed *is a **doubled** array. If* changed *is not a **doubled** array, return an empty array. The elements in* original *may be returned in **any** order*.\n",
    "\n",
    "**Example 1:**\n",
    "\n",
    "**Input:** changed = [1,3,4,2,6,8]\n",
    "\n",
    "**Output:** [1,3,4]\n",
    "\n",
    "**Explanation:** One possible original array could be [1,3,4]:\n",
    "\n",
    "- Twice the value of 1 is 1 * 2 = 2.\n",
    "- Twice the value of 3 is 3 * 2 = 6.\n",
    "- Twice the value of 4 is 4 * 2 = 8.\n",
    "\n",
    "Other original arrays could be [4,3,1] or [3,1,4].\n"
   ]
  },
  {
   "cell_type": "code",
   "execution_count": 11,
   "id": "bc57477a",
   "metadata": {},
   "outputs": [],
   "source": [
    "from collections import defaultdict\n",
    "\n",
    "def findOriginalArray(changed):\n",
    "    count_dict = defaultdict(int)\n",
    "    \n",
    "    for num in changed:\n",
    "        count_dict[num] += 1\n",
    "    \n",
    "    original = []\n",
    "    \n",
    "    for num in changed:\n",
    "        if count_dict[num] == 0:\n",
    "            continue\n",
    "        \n",
    "        if count_dict[num*2] == 0:\n",
    "            return []\n",
    "        \n",
    "        count_dict[num] -= 1\n",
    "        count_dict[num*2] -= 1\n",
    "        original.append(num)\n",
    "    \n",
    "    return original"
   ]
  },
  {
   "cell_type": "code",
   "execution_count": 12,
   "id": "80254808",
   "metadata": {},
   "outputs": [
    {
     "name": "stdout",
     "output_type": "stream",
     "text": [
      "[1, 3, 4]\n"
     ]
    }
   ],
   "source": [
    "changed = [1, 3, 4, 2, 6, 8]\n",
    "original = findOriginalArray(changed)\n",
    "print(original)"
   ]
  },
  {
   "cell_type": "markdown",
   "id": "dfee5eeb",
   "metadata": {},
   "source": [
    " **Question 7**\n",
    "\n",
    "Given a positive integer n, generate an n x n matrix filled with elements from 1 to n2 in spiral order.\n",
    "\n",
    "**Example 1:**\n",
    "\n",
    "**Input:** n = 3\n",
    "\n",
    "**Output:** [[1,2,3],[8,9,4],[7,6,5]]"
   ]
  },
  {
   "cell_type": "code",
   "execution_count": 13,
   "id": "f463391e",
   "metadata": {},
   "outputs": [
    {
     "name": "stdout",
     "output_type": "stream",
     "text": [
      "[[1, 2, 3], [8, 9, 4], [7, 6, 5]]\n"
     ]
    }
   ],
   "source": [
    "def generateMatrix(n):\n",
    "    matrix = [[0] * n for _ in range(n)]\n",
    "    num = 1\n",
    "    rowStart, rowEnd = 0, n - 1\n",
    "    colStart, colEnd = 0, n - 1\n",
    "\n",
    "    while rowStart <= rowEnd and colStart <= colEnd:\n",
    "        for i in range(colStart, colEnd + 1):\n",
    "            matrix[rowStart][i] = num\n",
    "            num += 1\n",
    "        rowStart += 1\n",
    "\n",
    "        for i in range(rowStart, rowEnd + 1):\n",
    "            matrix[i][colEnd] = num\n",
    "            num += 1\n",
    "        colEnd -= 1\n",
    "\n",
    "        if rowStart <= rowEnd:\n",
    "            for i in range(colEnd, colStart - 1, -1):\n",
    "                matrix[rowEnd][i] = num\n",
    "                num += 1\n",
    "            rowEnd -= 1\n",
    "\n",
    "        if colStart <= colEnd:\n",
    "            for i in range(rowEnd, rowStart - 1, -1):\n",
    "                matrix[i][colStart] = num\n",
    "                num += 1\n",
    "            colStart += 1\n",
    "\n",
    "    return matrix\n",
    "\n",
    "# Example usage\n",
    "n = 3\n",
    "result = generateMatrix(n)\n",
    "print(result)"
   ]
  },
  {
   "cell_type": "markdown",
   "id": "2f7290ab",
   "metadata": {},
   "source": [
    "**Question 8**\n",
    "\n",
    "Given two [sparse matrices](https://en.wikipedia.org/wiki/Sparse_matrix) mat1 of size m x k and mat2 of size k x n, return the result of mat1 x mat2. You may assume that multiplication is always possible.\n",
    "\n",
    "**Example 1:**\n",
    "**Input:** mat1 = [[1,0,0],[-1,0,3]], mat2 = [[7,0,0],[0,0,0],[0,0,1]]\n",
    "\n",
    "**Output:**\n",
    "\n",
    "[[7,0,0],[-7,0,3]]"
   ]
  },
  {
   "cell_type": "code",
   "execution_count": 14,
   "id": "0e38215e",
   "metadata": {},
   "outputs": [],
   "source": [
    "def multiply_sparse_matrices(mat1, mat2):\n",
    "    m = len(mat1)\n",
    "    k = len(mat1[0])\n",
    "    n = len(mat2[0])\n",
    "    result = [[0] * n for _ in range(m)]\n",
    "    \n",
    "    for i in range(m):\n",
    "        for j in range(k):\n",
    "            if mat1[i][j] != 0:\n",
    "                for col in range(n):\n",
    "                    result[i][col] += mat1[i][j] * mat2[j][col]\n",
    "    \n",
    "    return result"
   ]
  },
  {
   "cell_type": "code",
   "execution_count": 15,
   "id": "c032da31",
   "metadata": {},
   "outputs": [
    {
     "name": "stdout",
     "output_type": "stream",
     "text": [
      "[[7, 0, 0], [-7, 0, 3]]\n"
     ]
    }
   ],
   "source": [
    "mat1 = [[1, 0, 0], [-1, 0, 3]]\n",
    "mat2 = [[7, 0, 0], [0, 0, 0], [0, 0, 1]]\n",
    "\n",
    "result = multiply_sparse_matrices(mat1, mat2)\n",
    "print(result)"
   ]
  },
  {
   "cell_type": "code",
   "execution_count": null,
   "id": "79adc24a",
   "metadata": {},
   "outputs": [],
   "source": []
  }
 ],
 "metadata": {
  "kernelspec": {
   "display_name": "Python 3 (ipykernel)",
   "language": "python",
   "name": "python3"
  },
  "language_info": {
   "codemirror_mode": {
    "name": "ipython",
    "version": 3
   },
   "file_extension": ".py",
   "mimetype": "text/x-python",
   "name": "python",
   "nbconvert_exporter": "python",
   "pygments_lexer": "ipython3",
   "version": "3.10.9"
  }
 },
 "nbformat": 4,
 "nbformat_minor": 5
}
