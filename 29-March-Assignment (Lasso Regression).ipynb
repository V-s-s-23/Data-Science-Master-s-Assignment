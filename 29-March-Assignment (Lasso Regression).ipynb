{
 "cells": [
  {
   "cell_type": "markdown",
   "id": "00a4d982",
   "metadata": {},
   "source": [
    "# Q1. What is Lasso Regression, and how does it differ from other regression techniques?\n",
    "## Answer:- Lasso regression is a linear regression method that includes a penalty term in the objective function to shrink some of the model coefficients to zero. This allows for automatic feature selection and can improve the model's interpretability. Lasso differs from other regression techniques, such as ridge regression, by producing sparse models with fewer variables."
   ]
  },
  {
   "cell_type": "markdown",
   "id": "9e6647f1",
   "metadata": {},
   "source": [
    "# Q2. What is the main advantage of using Lasso Regression in feature selection?\n",
    "## Answer:- Lasso Regression can be a powerful tool for feature selection in machine learning and can provide a range of benefits such as improving model performance, interpretability, and handling high-dimensional data"
   ]
  },
  {
   "cell_type": "markdown",
   "id": "f4f1f96c",
   "metadata": {},
   "source": [
    "# Q3. How do you interpret the coefficients of a Lasso Regression model?\n",
    "## Answer:- In Lasso Regression, the coefficients represent the magnitude and direction of the relationship between each predictor variable and the target variable. The larger the coefficient, the stronger the relationship. Coefficients with a value of zero indicate that the corresponding predictor variable was not selected by the model."
   ]
  },
  {
   "cell_type": "markdown",
   "id": "a4035f61",
   "metadata": {},
   "source": [
    "# Q4. What are the tuning parameters that can be adjusted in Lasso Regression, and how do they affect the model's performance?\n",
    "## Answer:- Lasso Regression has one tuning parameter - the regularization parameter, also known as lambda. This parameter controls the amount of regularization applied to the model, which determines the amount of shrinkage applied to the coefficients. Higher values of lambda result in more regularization and more shrinking of the coefficients towards zero, leading to a simpler model with potentially better generalization performance. Conversely, lower values of lambda result in less regularization and less shrinking of the coefficients, leading to a more complex model that may have better training performance but worse generalization performance. "
   ]
  },
  {
   "cell_type": "markdown",
   "id": "f6775580",
   "metadata": {},
   "source": [
    "# Q5. Can Lasso Regression be used for non-linear regression problems? If yes, how?\n",
    "## Answer:- Lasso regression is a linear regression technique used for feature selection and regularization. It works by adding a penalty term to the cost function, which forces the coefficients of some features to be zero, effectively eliminating them from the model. Lasso regression can be used for non-linear regression problems by applying non-linear transformations to the input features, such as polynomial or exponential functions, and then using Lasso regression to select and regularize the most important features. However, this approach may not always be effective, and other non-linear regression techniques may be more suitable for highly non-linear problems."
   ]
  },
  {
   "cell_type": "markdown",
   "id": "f7458da9",
   "metadata": {},
   "source": [
    "# Q6. What is the difference between Ridge Regression and Lasso Regression?\n",
    "## Anwer:- Ridge Regression and Lasso Regression are both regularization techniques used in linear regression. Ridge adds a penalty term to the sum of squared coefficients, while Lasso adds a penalty term to the sum of absolute coefficients. This leads to Ridge often keeping all variables, while Lasso can force some coefficients to zero."
   ]
  },
  {
   "cell_type": "markdown",
   "id": "ca31c6d0",
   "metadata": {},
   "source": [
    "# Q7. Can Lasso Regression handle multicollinearity in the input features? If yes, how?\n",
    "## Answer:- Yes, Lasso Regression can handle multicollinearity in the input features as it uses L1 regularization to shrink coefficients towards zero. This results in some features being completely eliminated, effectively removing the collinearity."
   ]
  },
  {
   "cell_type": "markdown",
   "id": "d314acf7",
   "metadata": {},
   "source": [
    "# Q8. How do you choose the optimal value of the regularization parameter (lambda) in Lasso Regression?\n",
    "## Answer:- The optimal value of the regularization parameter in Lasso Regression can be chosen by using techniques such as cross-validation or grid search to find the lambda value that results in the best model performance in terms of prediction accuracy and model interpretability."
   ]
  },
  {
   "cell_type": "code",
   "execution_count": null,
   "id": "d8f64dcc",
   "metadata": {},
   "outputs": [],
   "source": []
  }
 ],
 "metadata": {
  "kernelspec": {
   "display_name": "Python 3 (ipykernel)",
   "language": "python",
   "name": "python3"
  },
  "language_info": {
   "codemirror_mode": {
    "name": "ipython",
    "version": 3
   },
   "file_extension": ".py",
   "mimetype": "text/x-python",
   "name": "python",
   "nbconvert_exporter": "python",
   "pygments_lexer": "ipython3",
   "version": "3.9.12"
  }
 },
 "nbformat": 4,
 "nbformat_minor": 5
}
