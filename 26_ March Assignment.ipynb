{
 "cells": [
  {
   "cell_type": "markdown",
   "id": "8a22c174",
   "metadata": {},
   "source": [
    "# Q1. Explain the difference between simple linear regression and multiple linear regression. Provide an example of each.\n",
    "## Answer:-\n",
    "### 1. Simple Linear Regression:- Simple linear regression involves analyzing the relationship between Single independent variables and a dependent variable.\n",
    "### 2. Multiple Linear Regression:- multiple linear regression involves analyzing the relationship between multiple independent variables and a dependent variable.\n",
    "### For example, a multiple linear regression can be used to model the relationship between a car's fuel efficiency and its weight, horsepower, and engine displacement. In this case, weight, horsepower, and engine displacement would be the independent variables, and fuel efficiency would be the dependent variable."
   ]
  },
  {
   "cell_type": "markdown",
   "id": "42223766",
   "metadata": {},
   "source": [
    "# Q2. Discuss the assumptions of linear regression. How can you check whether these assumptions hold in a given dataset?\n",
    "## Answer:-\n",
    "### 1. Normality- Data follows a Normal Distribution.\n",
    "### 2. Linearity:- The relationship between Independent Variable and Dependent Variable must be Linear.\n",
    "### 3. Homoscedisticity:- The variance of residual ia same for any value of independent feature.\n",
    "### 4. Independence:- Observations are independent of each other.\n",
    "### To check whether the assumptions of linear regression are met before interpreting the results of the analysis. Diagnostic tools such as scatterplots, residual plots, normal probability plots, and VIF can be used to check these assumptions in a given dataset."
   ]
  },
  {
   "cell_type": "markdown",
   "id": "09283b57",
   "metadata": {},
   "source": [
    "# Q3. How do you interpret the slope and intercept in a linear regression model? Provide an example using a real-world scenario.\n",
    "### Answer:- In a linear regression model, the slope and intercept are coefficients that represent the relationship between the independent variable(s) and the dependent variable. The slope represents the change in the dependent variable for a one-unit increase in the independent variable, while the intercept represents the expected value of the dependent variable when the independent variable(s) are equal to zero.\n",
    "### For example, consider a simple linear regression model that aims to predict a person's salary (dependent variable) based on their years of experience (independent variable). The equation for this model is:"
   ]
  },
  {
   "cell_type": "markdown",
   "id": "b9fae47d",
   "metadata": {},
   "source": [
    "# Q4. Explain the concept of gradient descent. How is it used in machine learning?\n",
    "### Answer:- Gradient descent is an optimization algorithm that is used to minimize a cost function by iteratively adjusting the parameters of a model.\n",
    "### To use gradient descent in machine learning, the first step is to define a cost function that measures how well the model fits the training data. The next step is to initialize the model parameters with some initial values, and then iteratively update the parameters using the gradient descent algorithm. The learning rate, which determines the size of the parameter update, is an important hyperparameter that needs to be tuned carefully to ensure the algorithm converges to the optimal values of the parameters."
   ]
  },
  {
   "cell_type": "markdown",
   "id": "9702e2ea",
   "metadata": {},
   "source": [
    "# Q5. Describe the multiple linear regression model. How does it differ from simple linear regression?\n",
    "### Answer:- multiple linear regression involves analyzing the relationship between multiple independent variables and a dependent variable.But Simple linear regression involves analyzing the relationship between Single independent variables and a dependent variable."
   ]
  },
  {
   "cell_type": "markdown",
   "id": "93ed4dbc",
   "metadata": {},
   "source": [
    "# Q6. Explain the concept of multicollinearity in multiple linear regression. How can you detect and address this issue?\n",
    "### Answer:- In Multicollinearity our independent feature are correlated and we can detect that by seeing correlation, by plotting heatmap etc. "
   ]
  },
  {
   "cell_type": "markdown",
   "id": "17e22a8a",
   "metadata": {},
   "source": [
    "# Q7. Describe the polynomial regression model. How is it different from linear regression?\n",
    "### Answer:- Polynomial regression is a type of regression analysis in which the relationship between the independent variable and the dependent variable is modeled as an nth degree polynomial. Unlike linear regression, polynomial regression allows for a more complex, curved relationship between the variables."
   ]
  },
  {
   "cell_type": "markdown",
   "id": "e04d64ae",
   "metadata": {},
   "source": [
    "# Q8. What are the advantages and disadvantages of polynomial regression compared to linear regression? In what situations would you prefer to use polynomial regression?\n",
    "### Answer:- Advantages of polynomial regression are it can fit non-linear relationships, more flexible and can fit complex data patterns. Disadvantages are overfitting, sensitive to outliers and multicollinearity. Use polynomial regression when data has non-linear patterns and linear regression is not sufficient."
   ]
  },
  {
   "cell_type": "code",
   "execution_count": null,
   "id": "171d09e2",
   "metadata": {},
   "outputs": [],
   "source": []
  }
 ],
 "metadata": {
  "kernelspec": {
   "display_name": "Python 3 (ipykernel)",
   "language": "python",
   "name": "python3"
  },
  "language_info": {
   "codemirror_mode": {
    "name": "ipython",
    "version": 3
   },
   "file_extension": ".py",
   "mimetype": "text/x-python",
   "name": "python",
   "nbconvert_exporter": "python",
   "pygments_lexer": "ipython3",
   "version": "3.9.12"
  }
 },
 "nbformat": 4,
 "nbformat_minor": 5
}
