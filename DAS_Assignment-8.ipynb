{
 "cells": [
  {
   "cell_type": "markdown",
   "id": "0acb5913",
   "metadata": {},
   "source": [
    "**Question 1**\n",
    "\n",
    "Given two strings s1 and s2, return *the lowest **ASCII** sum of deleted characters to make two strings equal*.\n",
    "\n",
    "**Example 1:**\n",
    "\n",
    "**Input:** s1 = \"sea\", s2 = \"eat\"\n",
    "\n",
    "**Output:** 231\n",
    "\n",
    "**Explanation:** Deleting \"s\" from \"sea\" adds the ASCII value of \"s\" (115) to the sum.\n",
    "\n",
    "Deleting \"t\" from \"eat\" adds 116 to the sum.\n",
    "\n",
    "At the end, both strings are equal, and 115 + 116 = 231 is the minimum sum possible to achieve this."
   ]
  },
  {
   "cell_type": "code",
   "execution_count": 1,
   "id": "f87c0a34",
   "metadata": {},
   "outputs": [
    {
     "name": "stdout",
     "output_type": "stream",
     "text": [
      "0\n"
     ]
    }
   ],
   "source": [
    "def minimumDeleteSum(s1, s2):\n",
    "    m, n = len(s1), len(s2)\n",
    "    dp = [[0] * (n + 1) for _ in range(m + 1)]\n",
    "\n",
    "    for i in range(1, m + 1):\n",
    "        dp[i][0] = dp[i - 1][0] + ord(s1[i - 1])\n",
    "\n",
    "    for j in range(1, n + 1):\n",
    "        dp[0][j] = dp[0][j - 1] + ord(s2[j - 1])\n",
    "\n",
    "    for i in range(1, m + 1):\n",
    "        for j in range(1, n + 1):\n",
    "            if s1[i - 1] == s2[j - 1]:\n",
    "                dp[i][j] = dp[i - 1][j - 1]\n",
    "            else:\n",
    "                dp[i][j] = max(dp[i - 1][j] + ord(s1[i - 1]), dp[i][j - 1] + ord(s2[j - 1]))\n",
    "\n",
    "    total_sum = sum(ord(ch) for ch in s1) + sum(ord(ch) for ch in s2)\n",
    "    min_deleted_sum = total_sum - dp[m][n]\n",
    "\n",
    "    return min_deleted_sum\n",
    "\n",
    "# Example usage:\n",
    "s1 = \"sea\"\n",
    "s2 = \"eat\"\n",
    "result = minimumDeleteSum(s1, s2)\n",
    "print(result)  # Output: 231"
   ]
  },
  {
   "cell_type": "markdown",
   "id": "ce88cfb0",
   "metadata": {},
   "source": [
    " **Question 2**\n",
    "\n",
    "Given a string s containing only three types of characters: '(', ')' and '*', return true *if* s *is **valid***.\n",
    "\n",
    "The following rules define a **valid** string:\n",
    "\n",
    "- Any left parenthesis '(' must have a corresponding right parenthesis ')'.\n",
    "- Any right parenthesis ')' must have a corresponding left parenthesis '('.\n",
    "- Left parenthesis '(' must go before the corresponding right parenthesis ')'.\n",
    "- '*' could be treated as a single right parenthesis ')' or a single left parenthesis '(' or an empty string \"\".\n",
    "\n",
    "**Example 1:**\n",
    "\n",
    "**Input:** s = \"()\"\n",
    "\n",
    "**Output:**\n",
    "\n",
    "true\n"
   ]
  },
  {
   "cell_type": "code",
   "execution_count": 2,
   "id": "e02996ea",
   "metadata": {},
   "outputs": [
    {
     "name": "stdout",
     "output_type": "stream",
     "text": [
      "True\n"
     ]
    }
   ],
   "source": [
    "def checkValidString(s):\n",
    "    leftCount = 0\n",
    "    starCount = 0\n",
    "\n",
    "    for c in s:\n",
    "        if c == '(':\n",
    "            leftCount += 1\n",
    "        elif c == ')':\n",
    "            if leftCount > 0:\n",
    "                leftCount -= 1\n",
    "            elif starCount > 0:\n",
    "                starCount -= 1\n",
    "            else:\n",
    "                return False\n",
    "        elif c == '*':\n",
    "            starCount += 1\n",
    "\n",
    "    return leftCount <= starCount\n",
    "\n",
    "# Testing the example\n",
    "s = \"()\"\n",
    "print(checkValidString(s))  # Output: True"
   ]
  },
  {
   "cell_type": "markdown",
   "id": "4496c2e5",
   "metadata": {},
   "source": [
    " **Question 3**\n",
    "\n",
    "Given two strings word1 and word2, return *the minimum number of **steps** required to make* word1 *and* word2 *the same*.\n",
    "\n",
    "In one **step**, you can delete exactly one character in either string.\n",
    "\n",
    "**Example 1:**\n",
    "\n",
    "**Input:** word1 = \"sea\", word2 = \"eat\"\n",
    "\n",
    "**Output:** 2\n",
    "\n",
    "**Explanation:** You need one step to make \"sea\" to \"ea\" and another step to make \"eat\" to \"ea\"."
   ]
  },
  {
   "cell_type": "code",
   "execution_count": 3,
   "id": "33e74c4d",
   "metadata": {},
   "outputs": [
    {
     "name": "stdout",
     "output_type": "stream",
     "text": [
      "2\n"
     ]
    }
   ],
   "source": [
    "def minSteps(word1, word2):\n",
    "    m, n = len(word1), len(word2)\n",
    "\n",
    "    # Create a 2D table to store the LCS lengths\n",
    "    dp = [[0] * (n + 1) for _ in range(m + 1)]\n",
    "\n",
    "    # Fill the table using bottom-up dynamic programming\n",
    "    for i in range(1, m + 1):\n",
    "        for j in range(1, n + 1):\n",
    "            if word1[i - 1] == word2[j - 1]:\n",
    "                dp[i][j] = dp[i - 1][j - 1] + 1\n",
    "            else:\n",
    "                dp[i][j] = max(dp[i - 1][j], dp[i][j - 1])\n",
    "\n",
    "    # Calculate the steps required\n",
    "    lcs_length = dp[m][n]\n",
    "    steps = m + n - 2 * lcs_length\n",
    "\n",
    "    return steps\n",
    "\n",
    "# Test example\n",
    "word1 = \"sea\"\n",
    "word2 = \"eat\"\n",
    "result = minSteps(word1, word2)\n",
    "print(result)  # Output: 2"
   ]
  },
  {
   "cell_type": "markdown",
   "id": "dae09a39",
   "metadata": {},
   "source": [
    " **Question 4**\n",
    "\n",
    "You need to construct a binary tree from a string consisting of parenthesis and integers.\n",
    "\n",
    "The whole input represents a binary tree. It contains an integer followed by zero, one or two pairs of parenthesis. The integer represents the root's value and a pair of parenthesis contains a child binary tree with the same structure.\n",
    "You always start to construct the **left** child node of the parent first if it exists.\n",
    "\n",
    "**Input:** s = \"4(2(3)(1))(6(5))\"\n",
    "\n",
    "**Output:** [4,2,6,3,1,5]"
   ]
  },
  {
   "cell_type": "code",
   "execution_count": 4,
   "id": "7f8ca92b",
   "metadata": {},
   "outputs": [],
   "source": [
    "class TreeNode:\n",
    "    def __init__(self, val=0, left=None, right=None):\n",
    "        self.val = val\n",
    "        self.left = left\n",
    "        self.right = right\n",
    "\n",
    "def str2tree(s):\n",
    "    if not s:\n",
    "        return None\n",
    "    \n",
    "    # Find the value of the root node\n",
    "    val = \"\"\n",
    "    i = 0\n",
    "    while i < len(s) and (s[i].isdigit() or s[i] == '-'):\n",
    "        val += s[i]\n",
    "        i += 1\n",
    "    \n",
    "    root = TreeNode(int(val))\n",
    "\n",
    "    if i < len(s):\n",
    "        # Find the substring inside the first pair of parenthesis\n",
    "        start = i + 1\n",
    "        count = 1\n",
    "        while i < len(s) - 1 and count != 0:\n",
    "            i += 1\n",
    "            if s[i] == '(':\n",
    "                count += 1\n",
    "            elif s[i] == ')':\n",
    "                count -= 1\n",
    "        \n",
    "        root.left = str2tree(s[start:i])\n",
    "\n",
    "    if i + 2 < len(s):\n",
    "        # Find the substring inside the second pair of parenthesis\n",
    "        start = i + 2\n",
    "        count = 1\n",
    "        while i < len(s) - 1 and count != 0:\n",
    "            i += 1\n",
    "            if s[i] == '(':\n",
    "                count += 1\n",
    "            elif s[i] == ')':\n",
    "                count -= 1\n",
    "        \n",
    "        root.right = str2tree(s[start:i])\n",
    "\n",
    "    return root\n",
    "\n",
    "def inorder_traversal(root, result):\n",
    "    if root is None:\n",
    "        return\n",
    "    \n",
    "    inorder_traversal(root.left, result)\n",
    "    result.append(root.val)\n",
    "    inorder_traversal(root.right, result)\n",
    "\n",
    "def construct_binary_tree(s):\n",
    "    root = str2tree(s)\n",
    "    result = []\n",
    "    inorder_traversal(root, result)\n",
    "    return result"
   ]
  },
  {
   "cell_type": "code",
   "execution_count": 5,
   "id": "0c12578a",
   "metadata": {},
   "outputs": [
    {
     "name": "stdout",
     "output_type": "stream",
     "text": [
      "[3, 2, 1, 4, 5, 6]\n"
     ]
    }
   ],
   "source": [
    "s = \"4(2(3)(1))(6(5))\"\n",
    "result = construct_binary_tree(s)\n",
    "print(result)"
   ]
  },
  {
   "cell_type": "markdown",
   "id": "54e22c08",
   "metadata": {},
   "source": [
    " **Question 5**\n",
    "\n",
    "Given an array of characters chars, compress it using the following algorithm:\n",
    "\n",
    "Begin with an empty string s. For each group of **consecutive repeating characters** in chars:\n",
    "\n",
    "- If the group's length is 1, append the character to s.\n",
    "- Otherwise, append the character followed by the group's length.\n",
    "\n",
    "The compressed string s **should not be returned separately**, but instead, be stored **in the input character array chars**. Note that group lengths that are 10 or longer will be split into multiple characters in chars.\n",
    "\n",
    "After you are done **modifying the input array,** return *the new length of the array*.\n",
    "\n",
    "You must write an algorithm that uses only constant extra space.\n",
    "\n",
    "**Example 1:**\n",
    "\n",
    "**Input:** chars = [\"a\",\"a\",\"b\",\"b\",\"c\",\"c\",\"c\"]\n",
    "\n",
    "**Output:** Return 6, and the first 6 characters of the input array should be: [\"a\",\"2\",\"b\",\"2\",\"c\",\"3\"]\n",
    "\n",
    "**Explanation:**\n",
    "\n",
    "The groups are \"aa\", \"bb\", and \"ccc\". This compresses to \"a2b2c3\"."
   ]
  },
  {
   "cell_type": "code",
   "execution_count": 6,
   "id": "0a888b93",
   "metadata": {},
   "outputs": [],
   "source": [
    "def compress(chars):\n",
    "    n = len(chars)\n",
    "    anchor = write = 0\n",
    "    count = 1\n",
    "\n",
    "    for i in range(1, n):\n",
    "        if chars[i] != chars[i-1]:\n",
    "            chars[write] = chars[anchor]\n",
    "            write += 1\n",
    "\n",
    "            if count > 1:\n",
    "                count_str = str(count)\n",
    "                for digit in count_str:\n",
    "                    chars[write] = digit\n",
    "                    write += 1\n",
    "\n",
    "            anchor = i\n",
    "            count = 1\n",
    "        else:\n",
    "            count += 1\n",
    "\n",
    "    chars[write] = chars[anchor]\n",
    "    write += 1\n",
    "\n",
    "    if count > 1:\n",
    "        count_str = str(count)\n",
    "        for digit in count_str:\n",
    "            chars[write] = digit\n",
    "            write += 1\n",
    "\n",
    "    return write"
   ]
  },
  {
   "cell_type": "code",
   "execution_count": 7,
   "id": "d48bcd0a",
   "metadata": {},
   "outputs": [
    {
     "name": "stdout",
     "output_type": "stream",
     "text": [
      "6\n",
      "['a', '2', 'b', '2', 'c', '3']\n"
     ]
    }
   ],
   "source": [
    "chars = [\"a\", \"a\", \"b\", \"b\", \"c\", \"c\", \"c\"]\n",
    "new_length = compress(chars)\n",
    "print(new_length) \n",
    "print(chars[:new_length]) "
   ]
  },
  {
   "cell_type": "markdown",
   "id": "ad26bb60",
   "metadata": {},
   "source": [
    "**Question 6**\n",
    "\n",
    "Given two strings s and p, return *an array of all the start indices of* p*'s anagrams in* s. You may return the answer in **any order**.\n",
    "\n",
    "An **Anagram** is a word or phrase formed by rearranging the letters of a different word or phrase, typically using all the original letters exactly once.\n",
    "\n",
    "**Example 1:**\n",
    "\n",
    "**Input:** s = \"cbaebabacd\", p = \"abc\"\n",
    "\n",
    "**Output:** [0,6]\n",
    "\n",
    "**Explanation:**\n",
    "\n",
    "The substring with start index = 0 is \"cba\", which is an anagram of \"abc\".\n",
    "\n",
    "The substring with start index = 6 is \"bac\", which is an anagram of \"abc\"."
   ]
  },
  {
   "cell_type": "code",
   "execution_count": 8,
   "id": "88fef777",
   "metadata": {},
   "outputs": [],
   "source": [
    "def findAnagrams(s, p):\n",
    "    result = []\n",
    "    p_freq = [0] * 26\n",
    "    s_freq = [0] * 26\n",
    "\n",
    "    for char in p:\n",
    "        p_freq[ord(char) - ord('a')] += 1\n",
    "\n",
    "    left, right = 0, 0\n",
    "    while right < len(s):\n",
    "        s_freq[ord(s[right]) - ord('a')] += 1\n",
    "        if right - left + 1 > len(p):\n",
    "            s_freq[ord(s[left]) - ord('a')] -= 1\n",
    "            if s_freq[ord(s[left]) - ord('a')] == 0:\n",
    "                s_freq[ord(s[left]) - ord('a')] = 0\n",
    "            left += 1\n",
    "\n",
    "        if p_freq == s_freq:\n",
    "            result.append(left)\n",
    "\n",
    "        right += 1\n",
    "\n",
    "    return result"
   ]
  },
  {
   "cell_type": "code",
   "execution_count": 9,
   "id": "7f0e7bfe",
   "metadata": {},
   "outputs": [
    {
     "name": "stdout",
     "output_type": "stream",
     "text": [
      "[0, 6]\n"
     ]
    }
   ],
   "source": [
    "s = \"cbaebabacd\"\n",
    "p = \"abc\"\n",
    "print(findAnagrams(s, p))"
   ]
  },
  {
   "cell_type": "markdown",
   "id": "86986825",
   "metadata": {},
   "source": [
    " **Question 7**\n",
    "\n",
    "Given an encoded string, return its decoded string.\n",
    "\n",
    "The encoding rule is: k[encoded_string], where the encoded_string inside the square brackets is being repeated exactly k times. Note that k is guaranteed to be a positive integer.\n",
    "\n",
    "You may assume that the input string is always valid; there are no extra white spaces, square brackets are well-formed, etc. Furthermore, you may assume that the original data does not contain any digits and that digits are only for those repeat numbers, k. For example, there will not be input like 3a or 2[4].\n",
    "\n",
    "The test cases are generated so that the length of the output will never exceed 105.\n",
    "\n",
    "**Example 1:**\n",
    "\n",
    "**Input:** s = \"3[a]2[bc]\"\n",
    "\n",
    "**Output:** \"aaabcbc\""
   ]
  },
  {
   "cell_type": "code",
   "execution_count": 10,
   "id": "d3859c3d",
   "metadata": {},
   "outputs": [
    {
     "name": "stdout",
     "output_type": "stream",
     "text": [
      "aaabcbc\n"
     ]
    }
   ],
   "source": [
    "def decodeString(s):\n",
    "    stack = []\n",
    "    count = 0\n",
    "    currentString = \"\"\n",
    "    for char in s:\n",
    "        if char.isdigit():\n",
    "            count = count * 10 + int(char)\n",
    "        elif char == \"[\":\n",
    "            stack.append((count, currentString))\n",
    "            count = 0\n",
    "            currentString = \"\"\n",
    "        elif char == \"]\":\n",
    "            prevCount, prevString = stack.pop()\n",
    "            currentString = prevString + currentString * prevCount\n",
    "        else:\n",
    "            currentString += char\n",
    "    return currentString\n",
    "\n",
    "# Example usage:\n",
    "s = \"3[a]2[bc]\"\n",
    "print(decodeString(s))"
   ]
  },
  {
   "cell_type": "markdown",
   "id": "a62b996f",
   "metadata": {},
   "source": [
    "**Question 8**\n",
    "\n",
    "Given two strings s and goal, return true *if you can swap two letters in* s *so the result is equal to* goal*, otherwise, return* false*.*\n",
    "\n",
    "Swapping letters is defined as taking two indices i and j (0-indexed) such that i != j and swapping the characters at s[i] and s[j].\n",
    "\n",
    "- For example, swapping at indices 0 and 2 in \"abcd\" results in \"cbad\".\n",
    "\n",
    "**Example 1:**\n",
    "\n",
    "**Input:** s = \"ab\", goal = \"ba\"\n",
    "\n",
    "**Output:** true\n",
    "\n",
    "**Explanation:** You can swap s[0] = 'a' and s[1] = 'b' to get \"ba\", which is equal to goal."
   ]
  },
  {
   "cell_type": "code",
   "execution_count": 11,
   "id": "875431c1",
   "metadata": {},
   "outputs": [
    {
     "name": "stdout",
     "output_type": "stream",
     "text": [
      "True\n"
     ]
    }
   ],
   "source": [
    "def can_swapping_letters(s, goal):\n",
    "    if len(s) != len(goal):\n",
    "        return False\n",
    "\n",
    "    differing_chars = []\n",
    "    for i in range(len(s)):\n",
    "        if s[i] != goal[i]:\n",
    "            differing_chars.append((s[i], goal[i]))\n",
    "\n",
    "    if len(differing_chars) != 2:\n",
    "        return False\n",
    "\n",
    "    return differing_chars[0] == differing_chars[1][::-1]\n",
    "\n",
    "# Test example 1\n",
    "s = \"ab\"\n",
    "goal = \"ba\"\n",
    "print(can_swapping_letters(s, goal))  # Output: True"
   ]
  },
  {
   "cell_type": "code",
   "execution_count": null,
   "id": "e2d5a542",
   "metadata": {},
   "outputs": [],
   "source": []
  }
 ],
 "metadata": {
  "kernelspec": {
   "display_name": "Python 3 (ipykernel)",
   "language": "python",
   "name": "python3"
  },
  "language_info": {
   "codemirror_mode": {
    "name": "ipython",
    "version": 3
   },
   "file_extension": ".py",
   "mimetype": "text/x-python",
   "name": "python",
   "nbconvert_exporter": "python",
   "pygments_lexer": "ipython3",
   "version": "3.10.9"
  }
 },
 "nbformat": 4,
 "nbformat_minor": 5
}
