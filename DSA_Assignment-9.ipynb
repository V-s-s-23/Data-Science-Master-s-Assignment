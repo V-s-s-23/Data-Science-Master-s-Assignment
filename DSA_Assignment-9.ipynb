{
 "cells": [
  {
   "cell_type": "markdown",
   "id": "b637bd90",
   "metadata": {},
   "source": [
    "\"\"\"1.Given a 1-indexed array of integers numbers that are already sorted in non-decreasing order, find two numbers such that they add up to a specific target number. Let these two numbers be numbers[index1] and numbers[index2] where 1 <= index1 < index2 < numbers.length.\n",
    "Return the indices of the two numbers, index1, and index2, added by one as an integer array [index1, index2] of length 2.\n",
    "The tests are generated such that there is exactly one solution. You may not use the same element twice.\n",
    "Your solution must use only constant extra space.\n",
    "Input: numbers = [2,7,11,15], target = 9\n",
    "Output: [1,2]\n",
    "Explanation: The sum of 2 and 7 is 9. Therefore, index1 = 1, index2 = 2. We return [1, 2].\n",
    "\n",
    "2.Given an array of integer nums sorted in non-decreasing order, find the starting and ending position of a given target value.\n",
    "If the target is not found in the array, return [-1, -1].\n",
    "You must write an algorithm with O(log n) runtime complexity\n",
    "Input: nums = [5,7,7,8,8,10], target = 8\n",
    "Output: [3,4]\n",
    "\n",
    "3.A peak element is an element that is strictly greater than its neighbors.\n",
    "Given a 0-indexed integer array nums, find a peak element, and return its index. If the array contains multiple peaks, return the index to any of the peaks.\n",
    "You may imagine that nums[-1] = nums[n] = -∞. In other words, an element is always considered to be strictly greater than a neighbor that is outside the array.\n",
    "You must write an algorithm that runs in O(log n) time.\n",
    "Input: nums = [1,2,3,1]\n",
    "Output: 2\n",
    "Explanation: 3 is a peak element and your function should return the index number 2.\n",
    "\n",
    "4.Given a sorted array of distinct integers and a target value, return the index if the target is found. If not, return the index where it would be if it were inserted in order.\n",
    "You must write an algorithm with O(log n) runtime complexity.\n",
    "Input: nums = [1,3,5,6], target = 5\n",
    "Output: 2\n",
    "\n",
    "Input: nums = [1,3,5,6], target = 7\n",
    "Output: 4\n",
    "\n",
    "5.Find the majority element in the array. A majority element in an array A[] of size n is an element that appears more than n/2 times (and hence there is at most one such element). \n",
    "Input: A[]={3, 3, 4, 2, 4, 4, 2, 4, 4}\n",
    "Output: 4\n",
    "Explanation: The frequency of 4 is 5 which is greater than half of the size of the array size. \n",
    "\n",
    "6.You are a product manager and currently leading a team to develop a new product. Unfortunately, the latest version of your product fails the quality check. Since each version is developed based on the previous version, all the versions after a bad version are also bad.\n",
    "Suppose you have n versions [1, 2, ..., n] and you want to find out the first bad one, which causes all the following ones to be bad.\n",
    "You are given an API bool isBadVersion(version) which returns whether the version is bad. Implement a function to find the first bad version. You should minimize the number of calls to the API.\n",
    "Input: n = 5, bad = 4\n",
    "Output: 4\n",
    "Explanation:\n",
    "call isBadVersion(3) -> false\n",
    "call isBadVersion(5) -> true\n",
    "call isBadVersion(4) -> true\n",
    "Then 4 is the first bad version.\n",
    "\n",
    "\n",
    "7.Given an array of integers, find the inversion of an array. Formally, two elements a[i] and a[j] form an inversion if a[i] > a[j] and i < j.\n",
    "N=5, arr[] = {2, 4, 1, 3, 5}\n",
    "Output: 3\n",
    "Explanation: (2,1) (4,1) and (4,3) forms an inversion in an array\n",
    "\n",
    "8.Given three arrays sorted in non-decreasing order, print all common elements in these arrays.\n",
    "ar1[] = {1, 5, 10, 20, 40, 80} \n",
    "ar2[] = {6, 7, 20, 80, 100} \n",
    "ar3[] = {3, 4, 15, 20, 30, 70, 80, 120} \n",
    "Output: 20, 80\"\"\""
   ]
  },
  {
   "cell_type": "markdown",
   "id": "e5409306",
   "metadata": {},
   "source": [
    "# Answers:-"
   ]
  },
  {
   "cell_type": "code",
   "execution_count": 4,
   "id": "77d1aff4",
   "metadata": {},
   "outputs": [
    {
     "name": "stdout",
     "output_type": "stream",
     "text": [
      "[1, 2]\n"
     ]
    }
   ],
   "source": [
    "# 1.\n",
    "def two_sum(numbers, target):\n",
    "    left, right = 0, len(numbers) - 1\n",
    "    \n",
    "    while left < right:\n",
    "        current_sum = numbers[left] + numbers[right]\n",
    "        if current_sum == target:\n",
    "            return [left + 1, right + 1]  # Adjust indices to 1-indexed\n",
    "        elif current_sum < target:\n",
    "            left += 1\n",
    "        else:\n",
    "            right -= 1\n",
    "    \n",
    "    # If no solution is found, return an empty list or raise an error, depending on requirements.\n",
    "    # In this case, since the problem states there is exactly one solution, an error is appropriate.\n",
    "    raise ValueError(\"No solution found.\")\n",
    "\n",
    "# Example usage:\n",
    "numbers = [2, 7, 11, 15]\n",
    "target = 9\n",
    "output = two_sum(numbers, target)\n",
    "print(output) "
   ]
  },
  {
   "cell_type": "code",
   "execution_count": 3,
   "id": "509a4feb",
   "metadata": {},
   "outputs": [
    {
     "name": "stdout",
     "output_type": "stream",
     "text": [
      "[3, 4]\n"
     ]
    }
   ],
   "source": [
    "# 2.\n",
    "def search_range(nums, target):\n",
    "    def find_start(nums, target):\n",
    "        start = 0\n",
    "        end = len(nums) - 1\n",
    "        while start <= end:\n",
    "            mid = start + (end - start) // 2\n",
    "            if nums[mid] >= target:\n",
    "                end = mid - 1\n",
    "            else:\n",
    "                start = mid + 1\n",
    "        return start\n",
    "\n",
    "    def find_end(nums, target):\n",
    "        start = 0\n",
    "        end = len(nums) - 1\n",
    "        while start <= end:\n",
    "            mid = start + (end - start) // 2\n",
    "            if nums[mid] <= target:\n",
    "                start = mid + 1\n",
    "            else:\n",
    "                end = mid - 1\n",
    "        return end\n",
    "\n",
    "    start = find_start(nums, target)\n",
    "    end = find_end(nums, target)\n",
    "\n",
    "    if start <= end:\n",
    "        return [start, end]\n",
    "    else:\n",
    "        return [-1, -1]\n",
    "\n",
    "# Test example\n",
    "nums = [5, 7, 7, 8, 8, 10]\n",
    "target = 8\n",
    "print(search_range(nums, target))   "
   ]
  },
  {
   "cell_type": "code",
   "execution_count": 5,
   "id": "05e83b68",
   "metadata": {},
   "outputs": [
    {
     "name": "stdout",
     "output_type": "stream",
     "text": [
      "2\n"
     ]
    }
   ],
   "source": [
    "# 3.\n",
    "def find_peak_element(nums):\n",
    "    left, right = 0, len(nums) - 1\n",
    "\n",
    "    while left < right:\n",
    "        mid = left + (right - left) // 2\n",
    "\n",
    "        if nums[mid] > nums[mid + 1]:\n",
    "            right = mid\n",
    "        else:\n",
    "            left = mid + 1\n",
    "\n",
    "    return left\n",
    "\n",
    "# Test case\n",
    "nums = [1, 2, 3, 1]\n",
    "print(find_peak_element(nums))  "
   ]
  },
  {
   "cell_type": "code",
   "execution_count": 6,
   "id": "96fcb4b2",
   "metadata": {},
   "outputs": [
    {
     "name": "stdout",
     "output_type": "stream",
     "text": [
      "2\n",
      "4\n"
     ]
    }
   ],
   "source": [
    "# 4.\n",
    "def search_insert(nums, target):\n",
    "    left, right = 0, len(nums) - 1\n",
    "\n",
    "    while left <= right:\n",
    "        mid = (left + right) // 2\n",
    "\n",
    "        if nums[mid] == target:\n",
    "            return mid\n",
    "        elif nums[mid] < target:\n",
    "            left = mid + 1\n",
    "        else:\n",
    "            right = mid - 1\n",
    "\n",
    "    return left\n",
    "\n",
    "# Test cases\n",
    "nums1 = [1, 3, 5, 6]\n",
    "target1 = 5\n",
    "print(search_insert(nums1, target1))  \n",
    "\n",
    "nums2 = [1, 3, 5, 6]\n",
    "target2 = 7\n",
    "print(search_insert(nums2, target2))  "
   ]
  },
  {
   "cell_type": "code",
   "execution_count": 7,
   "id": "0974c897",
   "metadata": {},
   "outputs": [
    {
     "name": "stdout",
     "output_type": "stream",
     "text": [
      "4\n"
     ]
    }
   ],
   "source": [
    "# 5.\n",
    "def find_majority_element(nums):\n",
    "    count = 0\n",
    "    candidate = None\n",
    "\n",
    "    for num in nums:\n",
    "        if count == 0:\n",
    "            candidate = num\n",
    "            count = 1\n",
    "        elif num == candidate:\n",
    "            count += 1\n",
    "        else:\n",
    "            count -= 1\n",
    "\n",
    "    # At this point, candidate is a possible majority element, but we need to validate it\n",
    "    count = 0\n",
    "    for num in nums:\n",
    "        if num == candidate:\n",
    "            count += 1\n",
    "\n",
    "    # Check if candidate is the majority element\n",
    "    if count > len(nums) // 2:\n",
    "        return candidate\n",
    "    else:\n",
    "        return None  # No majority element found\n",
    "\n",
    "# Input array\n",
    "A = [3, 3, 4, 2, 4, 4, 2, 4, 4]\n",
    "\n",
    "# Find the majority element\n",
    "result = find_majority_element(A)\n",
    "\n",
    "\n",
    "print(result)  "
   ]
  },
  {
   "cell_type": "code",
   "execution_count": 10,
   "id": "d81690b9",
   "metadata": {},
   "outputs": [],
   "source": [
    "# 6.\n",
    "def firstBadVersion(n):\n",
    "    left, right = 1, n\n",
    "    \n",
    "    while left < right:\n",
    "        mid = left + (right - left) // 2\n",
    "        if isBadVersion(mid):\n",
    "            right = mid\n",
    "        else:\n",
    "            left = mid + 1\n",
    "    \n",
    "    return left"
   ]
  },
  {
   "cell_type": "code",
   "execution_count": 12,
   "id": "a458fcbd",
   "metadata": {},
   "outputs": [
    {
     "name": "stdout",
     "output_type": "stream",
     "text": [
      "4\n"
     ]
    }
   ],
   "source": [
    "# Dummy isBadVersion function for testing\n",
    "def isBadVersion(version):\n",
    "    return version >= 4  # Assume 'bad' version is 4\n",
    "\n",
    "def firstBadVersion(n):\n",
    "    left, right = 1, n\n",
    "\n",
    "    while left < right:\n",
    "        mid = left + (right - left) // 2\n",
    "        if isBadVersion(mid):\n",
    "            right = mid\n",
    "        else:\n",
    "            left = mid + 1\n",
    "\n",
    "    return left\n",
    "\n",
    "# Test the function with n = 5 and bad = 4\n",
    "n = 5\n",
    "bad = 4\n",
    "result = firstBadVersion(n)\n",
    "print(result) "
   ]
  },
  {
   "cell_type": "code",
   "execution_count": 13,
   "id": "a6a95591",
   "metadata": {},
   "outputs": [
    {
     "name": "stdout",
     "output_type": "stream",
     "text": [
      "Number of inversions: 3\n"
     ]
    }
   ],
   "source": [
    "# 7.\n",
    "def merge(arr, temp, left, mid, right):\n",
    "    inv_count = 0\n",
    "    i = left  # Index for left subarray\n",
    "    j = mid + 1  # Index for right subarray\n",
    "    k = left  # Index for merged subarray\n",
    "\n",
    "    while i <= mid and j <= right:\n",
    "        if arr[i] <= arr[j]:\n",
    "            temp[k] = arr[i]\n",
    "            i += 1\n",
    "        else:\n",
    "            temp[k] = arr[j]\n",
    "            j += 1\n",
    "            inv_count += (mid - i + 1)  # Count inversions\n",
    "\n",
    "        k += 1\n",
    "\n",
    "    # Copy the remaining elements of left subarray, if any\n",
    "    while i <= mid:\n",
    "        temp[k] = arr[i]\n",
    "        i += 1\n",
    "        k += 1\n",
    "\n",
    "    # Copy the remaining elements of right subarray, if any\n",
    "    while j <= right:\n",
    "        temp[k] = arr[j]\n",
    "        j += 1\n",
    "        k += 1\n",
    "\n",
    "    # Copy back the merged elements to the original array\n",
    "    for i in range(left, right + 1):\n",
    "        arr[i] = temp[i]\n",
    "\n",
    "    return inv_count\n",
    "\n",
    "\n",
    "def merge_sort(arr, temp, left, right):\n",
    "    inv_count = 0\n",
    "\n",
    "    if left < right:\n",
    "        mid = (left + right) // 2\n",
    "\n",
    "        inv_count += merge_sort(arr, temp, left, mid)\n",
    "        inv_count += merge_sort(arr, temp, mid + 1, right)\n",
    "        inv_count += merge(arr, temp, left, mid, right)\n",
    "\n",
    "    return inv_count\n",
    "\n",
    "\n",
    "def count_inversions(arr):\n",
    "    n = len(arr)\n",
    "    temp = [0] * n\n",
    "    return merge_sort(arr, temp, 0, n - 1)\n",
    "\n",
    "\n",
    "# Example\n",
    "N = 5\n",
    "arr = [2, 4, 1, 3, 5]\n",
    "inversions = count_inversions(arr)\n",
    "print(\"Number of inversions:\", inversions)"
   ]
  },
  {
   "cell_type": "code",
   "execution_count": 14,
   "id": "e3d7ddc9",
   "metadata": {},
   "outputs": [
    {
     "name": "stdout",
     "output_type": "stream",
     "text": [
      "[20, 80]\n"
     ]
    }
   ],
   "source": [
    "# 8.\n",
    "def find_common_elements(ar1, ar2, ar3):\n",
    "    common_elements = []\n",
    "    i, j, k = 0, 0, 0\n",
    "\n",
    "    while i < len(ar1) and j < len(ar2) and k < len(ar3):\n",
    "        if ar1[i] == ar2[j] == ar3[k]:\n",
    "            common_elements.append(ar1[i])\n",
    "            i += 1\n",
    "            j += 1\n",
    "            k += 1\n",
    "        elif ar1[i] <= ar2[j] and ar1[i] <= ar3[k]:\n",
    "            i += 1\n",
    "        elif ar2[j] <= ar1[i] and ar2[j] <= ar3[k]:\n",
    "            j += 1\n",
    "        else:\n",
    "            k += 1\n",
    "\n",
    "    return common_elements\n",
    "\n",
    "\n",
    "# Test the function with the given example arrays\n",
    "ar1 = [1, 5, 10, 20, 40, 80]\n",
    "ar2 = [6, 7, 20, 80, 100]\n",
    "ar3 = [3, 4, 15, 20, 30, 70, 80, 120]\n",
    "\n",
    "result = find_common_elements(ar1, ar2, ar3)\n",
    "print(result)  "
   ]
  },
  {
   "cell_type": "code",
   "execution_count": null,
   "id": "6726d045",
   "metadata": {},
   "outputs": [],
   "source": []
  }
 ],
 "metadata": {
  "kernelspec": {
   "display_name": "Python 3 (ipykernel)",
   "language": "python",
   "name": "python3"
  },
  "language_info": {
   "codemirror_mode": {
    "name": "ipython",
    "version": 3
   },
   "file_extension": ".py",
   "mimetype": "text/x-python",
   "name": "python",
   "nbconvert_exporter": "python",
   "pygments_lexer": "ipython3",
   "version": "3.10.9"
  }
 },
 "nbformat": 4,
 "nbformat_minor": 5
}
